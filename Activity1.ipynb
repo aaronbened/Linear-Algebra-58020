{
  "nbformat": 4,
  "nbformat_minor": 0,
  "metadata": {
    "colab": {
      "name": "Vector Representation.ipynb",
      "provenance": [],
      "collapsed_sections": [],
      "authorship_tag": "ABX9TyPrDVJ7ZknkRnnp9lN5LeS2",
      "include_colab_link": true
    },
    "kernelspec": {
      "name": "python3",
      "display_name": "Python 3"
    },
    "language_info": {
      "name": "python"
    }
  },
  "cells": [
    {
      "cell_type": "markdown",
      "metadata": {
        "id": "view-in-github",
        "colab_type": "text"
      },
      "source": [
        "<a href=\"https://colab.research.google.com/github/aaronbened/Linear-Algebra-58020/blob/main/Activity1.ipynb\" target=\"_parent\"><img src=\"https://colab.research.google.com/assets/colab-badge.svg\" alt=\"Open In Colab\"/></a>"
      ]
    },
    {
      "cell_type": "markdown",
      "metadata": {
        "id": "2AkSx9Y5A3j3"
      },
      "source": [
        "Matrix and its Operation"
      ]
    },
    {
      "cell_type": "markdown",
      "metadata": {
        "id": "SBiA1oOeKnk8"
      },
      "source": [
        "Sum = A + B"
      ]
    },
    {
      "cell_type": "code",
      "metadata": {
        "colab": {
          "base_uri": "https://localhost:8080/"
        },
        "id": "raHtjhv1K4bh",
        "outputId": "1d8d5dfa-9bc3-4b5b-8865-ccdcffcb9deb"
      },
      "source": [
        "import numpy as np\n",
        "A = np.array([[-5,0],[4,1]])\n",
        "B = np.array([[6,-3],[2,3]])\n",
        "C = A + B\n",
        "print(\"This is array A\")\n",
        "print(A)\n",
        "print(\"This is array B\")\n",
        "print(B)\n",
        "print(\"This is the summation of A and B\")\n",
        "print(C)"
      ],
      "execution_count": 33,
      "outputs": [
        {
          "output_type": "stream",
          "name": "stdout",
          "text": [
            "This is array A\n",
            "[[-5  0]\n",
            " [ 4  1]]\n",
            "This is array B\n",
            "[[ 6 -3]\n",
            " [ 2  3]]\n",
            "This is the summation of A and B\n",
            "[[ 1 -3]\n",
            " [ 6  4]]\n"
          ]
        }
      ]
    },
    {
      "cell_type": "markdown",
      "metadata": {
        "id": "nD7miDVLL45_"
      },
      "source": [
        "Difference#1= A - B"
      ]
    },
    {
      "cell_type": "code",
      "metadata": {
        "colab": {
          "base_uri": "https://localhost:8080/"
        },
        "id": "Z0cosdZ3L-F5",
        "outputId": "a271eab4-f733-47b6-f781-b186008e6df5"
      },
      "source": [
        "import numpy as np\n",
        "A = np.array([[-5,0],[4,1]])\n",
        "B = np.array([[6,-3],[2,3]])\n",
        "C = A - B\n",
        "print(\"This is array A\")\n",
        "print(A)\n",
        "print(\"This is array B\")\n",
        "print(B)\n",
        "print(\"This is the summation of A and B\")\n",
        "print(C)"
      ],
      "execution_count": 38,
      "outputs": [
        {
          "output_type": "stream",
          "name": "stdout",
          "text": [
            "This is array A\n",
            "[[-5  0]\n",
            " [ 4  1]]\n",
            "This is array B\n",
            "[[ 6 -3]\n",
            " [ 2  3]]\n",
            "This is the summation of A and B\n",
            "[[-11   3]\n",
            " [  2  -2]]\n"
          ]
        }
      ]
    },
    {
      "cell_type": "markdown",
      "metadata": {
        "id": "XAPSDONuMDSw"
      },
      "source": [
        "Difference#2 = B - B"
      ]
    },
    {
      "cell_type": "code",
      "metadata": {
        "colab": {
          "base_uri": "https://localhost:8080/"
        },
        "id": "q7pladxxMKKM",
        "outputId": "bcfe772b-7b9c-4acd-d418-0dc2a58e3a1a"
      },
      "source": [
        "import numpy as np\n",
        "A = np.array([[-5,0],[4,1]])\n",
        "B = np.array([[6,-3],[2,3]])\n",
        "C = B - B\n",
        "print(\"This is array B\")\n",
        "print(B)\n",
        "print(\"This is the summation of A and B\")\n",
        "print(C)"
      ],
      "execution_count": 37,
      "outputs": [
        {
          "output_type": "stream",
          "name": "stdout",
          "text": [
            "This is array B\n",
            "[[ 6 -3]\n",
            " [ 2  3]]\n",
            "This is the summation of A and B\n",
            "[[0 0]\n",
            " [0 0]]\n"
          ]
        }
      ]
    }
  ]
}