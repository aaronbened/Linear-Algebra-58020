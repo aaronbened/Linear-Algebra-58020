{
  "nbformat": 4,
  "nbformat_minor": 0,
  "metadata": {
    "colab": {
      "name": "Activity 3",
      "provenance": [],
      "authorship_tag": "ABX9TyOEjtaxUk91anL3DZdGTieF",
      "include_colab_link": true
    },
    "kernelspec": {
      "name": "python3",
      "display_name": "Python 3"
    },
    "language_info": {
      "name": "python"
    }
  },
  "cells": [
    {
      "cell_type": "markdown",
      "metadata": {
        "id": "view-in-github",
        "colab_type": "text"
      },
      "source": [
        "<a href=\"https://colab.research.google.com/github/aaronbened/Linear-Algebra-58020/blob/main/Activity_3.ipynb\" target=\"_parent\"><img src=\"https://colab.research.google.com/assets/colab-badge.svg\" alt=\"Open In Colab\"/></a>"
      ]
    },
    {
      "cell_type": "markdown",
      "metadata": {
        "id": "Nk5WTWzGf-ce"
      },
      "source": [
        "#Transpose\n",
        "\n"
      ]
    },
    {
      "cell_type": "code",
      "metadata": {
        "colab": {
          "base_uri": "https://localhost:8080/"
        },
        "id": "ISpqVME6fdQ_",
        "outputId": "393e55c0-950f-447d-d9cb-e01796102956"
      },
      "source": [
        "#3x3 Matrix \n",
        "import numpy as np  #to call the module of array\n",
        "a = np.array([[3,0,1],[12,6,10],[7,15,9]]) #set value for the 3x3 matrix array\n",
        "print(\"The Value for Matrix A is: \\n\",a) # We print the value to see if it works\n",
        "print(\"\\nThe Transposed Value of Matrix A is: \")\n",
        "b = np.transpose(a) # put another variable name and use the transpose function to a and see what will happened\n",
        "print(b) # display the transposed value of Matrix a"
      ],
      "execution_count": 20,
      "outputs": [
        {
          "output_type": "stream",
          "name": "stdout",
          "text": [
            "The Value for Matrix A is: \n",
            " [[ 3  0  1]\n",
            " [12  6 10]\n",
            " [ 7 15  9]]\n",
            "\n",
            "The Transposed Value of Matrix A is: \n",
            "[[ 3 12  7]\n",
            " [ 0  6 15]\n",
            " [ 1 10  9]]\n"
          ]
        }
      ]
    },
    {
      "cell_type": "code",
      "metadata": {
        "colab": {
          "base_uri": "https://localhost:8080/"
        },
        "id": "xbmg60hWgpNc",
        "outputId": "1ad2b9bd-f5dc-44d4-8ee4-1cdcd894a337"
      },
      "source": [
        "#4x4 Matrix\n",
        "#We already called the numpy module in previous code cell\n",
        "matrix = np.array([[2.2,3,5,10],[12,4,6,4],[10,9,15,20],[22,3.5,7,8]])#set value for the 4x4 matrix array\n",
        "print(\"The value of the Matrix is : \\n \",matrix)# We Display the value to see if it works\n",
        "transposed = np.transpose(matrix)\n",
        "print(\"\\nThe Transposed Value of Matrix is: \\n\",transposed)"
      ],
      "execution_count": 24,
      "outputs": [
        {
          "output_type": "stream",
          "name": "stdout",
          "text": [
            "The value of the Matrix is : \n",
            "  [[ 2.2  3.   5.  10. ]\n",
            " [12.   4.   6.   4. ]\n",
            " [10.   9.  15.  20. ]\n",
            " [22.   3.5  7.   8. ]]\n",
            "\n",
            "The Transposed Value of Matrix is: \n",
            " [[ 2.2 12.  10.  22. ]\n",
            " [ 3.   4.   9.   3.5]\n",
            " [ 5.   6.  15.   7. ]\n",
            " [10.   4.  20.   8. ]]\n"
          ]
        }
      ]
    },
    {
      "cell_type": "markdown",
      "metadata": {
        "id": "5XxPM4SMmTHy"
      },
      "source": [
        "#inverse"
      ]
    },
    {
      "cell_type": "code",
      "metadata": {
        "colab": {
          "base_uri": "https://localhost:8080/"
        },
        "id": "tSrf2ewTmSv0",
        "outputId": "28b783d2-99d3-4283-aa12-eb54b464994b"
      },
      "source": [
        "#We already called the numpy module in previous code cell\n",
        "#We try to  inverse the given matrix above.\n",
        "#3x3 MATRIX INVERSE\n",
        "#a = np.array([[3,0,1],[12,6,10],[7,15,9]])\n",
        "inverse3x3 = np.linalg.inv(a) # we use the given values in Matrix A on 3x3 \n",
        "print('The Inverse value of Matrix a is : \\n ' , inverse3x3) # we Display the values"
      ],
      "execution_count": 28,
      "outputs": [
        {
          "output_type": "stream",
          "name": "stdout",
          "text": [
            "The Inverse value of Matrix a is : \n",
            "  [[ 0.64       -0.1         0.04      ]\n",
            " [ 0.25333333 -0.13333333  0.12      ]\n",
            " [-0.92        0.3        -0.12      ]]\n"
          ]
        }
      ]
    },
    {
      "cell_type": "code",
      "metadata": {
        "colab": {
          "base_uri": "https://localhost:8080/"
        },
        "id": "aZybrhBtnMAf",
        "outputId": "7f3721f9-6e5a-499c-d886-26606a1acd34"
      },
      "source": [
        "#We already called the numpy module in previous code cell\n",
        "#We try to  inverse the given matrix above.\n",
        "#4x4 MATRIX INVERSE\n",
        "#matrix = np.array([[2.2,3,5,10],[12,4,6,4],[10,9,15,20],[22,3.5,7,8]])\n",
        "inverse4x4 = np.linalg.inv(matrix)# we use the given values in Matrix on 4x4 \n",
        "print('The Inverse value of Matrix a is : \\n ' , inverse4x4)# we Display the values"
      ],
      "execution_count": 29,
      "outputs": [
        {
          "output_type": "stream",
          "name": "stdout",
          "text": [
            "The Inverse value of Matrix a is : \n",
            "  [[ 0.0877193   0.06140351 -0.07017544  0.03508772]\n",
            " [ 1.54385965  1.48070175 -0.83508772 -0.58245614]\n",
            " [-1.4245614  -0.95719298  0.77964912  0.31017544]\n",
            " [ 0.32982456  0.02087719 -0.12385965  0.01192982]]\n"
          ]
        }
      ]
    }
  ]
}