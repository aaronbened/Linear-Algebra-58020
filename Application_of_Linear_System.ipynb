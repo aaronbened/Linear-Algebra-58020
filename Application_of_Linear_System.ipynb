{
  "nbformat": 4,
  "nbformat_minor": 0,
  "metadata": {
    "colab": {
      "name": "Application of Linear System.ipynb",
      "provenance": [],
      "authorship_tag": "ABX9TyPrrqrWQkKdFMw8oWwlqtKm",
      "include_colab_link": true
    },
    "kernelspec": {
      "name": "python3",
      "display_name": "Python 3"
    },
    "language_info": {
      "name": "python"
    }
  },
  "cells": [
    {
      "cell_type": "markdown",
      "metadata": {
        "id": "view-in-github",
        "colab_type": "text"
      },
      "source": [
        "<a href=\"https://colab.research.google.com/github/aaronbened/Linear-Algebra-58020/blob/main/Application_of_Linear_System.ipynb\" target=\"_parent\"><img src=\"https://colab.research.google.com/assets/colab-badge.svg\" alt=\"Open In Colab\"/></a>"
      ]
    },
    {
      "cell_type": "markdown",
      "metadata": {
        "id": "qOjootQxX5QR"
      },
      "source": [
        "##System of Linear Equation"
      ]
    },
    {
      "cell_type": "markdown",
      "metadata": {
        "id": "8_hFsFKQYATm"
      },
      "source": [
        "###Systems of Linear Equations can be solved with arrays and NumPy."
      ]
    },
    {
      "cell_type": "code",
      "metadata": {
        "colab": {
          "base_uri": "https://localhost:8080/"
        },
        "id": "0HSFiiDSX4RI",
        "outputId": "ff7e31a8-4541-41a6-d446-e265600101b4"
      },
      "source": [
        "import numpy as np\n",
        "\n",
        "A = np.array([[4,5],[3,-2]])\n",
        "print(A)\n",
        "print()\n",
        "B = np.array([[7],[11]])\n",
        "print(B)\n",
        "invA = np.linalg.inv(A)\n",
        "print()\n",
        "print(invA)\n",
        "print()\n",
        "print(np.dot(invA,B))\n",
        "#print(np.linalg.inv(A).dot(B))"
      ],
      "execution_count": 9,
      "outputs": [
        {
          "output_type": "stream",
          "name": "stdout",
          "text": [
            "[[ 4  5]\n",
            " [ 3 -2]]\n",
            "\n",
            "[[ 7]\n",
            " [11]]\n",
            "\n",
            "[[ 0.08695652  0.2173913 ]\n",
            " [ 0.13043478 -0.17391304]]\n",
            "\n",
            "[[ 3.]\n",
            " [-1.]]\n"
          ]
        }
      ]
    },
    {
      "cell_type": "code",
      "metadata": {
        "colab": {
          "base_uri": "https://localhost:8080/"
        },
        "id": "josv4Mwic3tJ",
        "outputId": "ba845235-a7d2-493e-c71e-c37e3135afa0"
      },
      "source": [
        "X = np.linalg.solve(A,B)\n",
        "print(X)"
      ],
      "execution_count": 10,
      "outputs": [
        {
          "output_type": "stream",
          "name": "stdout",
          "text": [
            "[[ 3.]\n",
            " [-1.]]\n"
          ]
        }
      ]
    },
    {
      "cell_type": "code",
      "metadata": {
        "colab": {
          "base_uri": "https://localhost:8080/"
        },
        "id": "9vD-yeMJeAXz",
        "outputId": "583ca79a-ca9d-4b35-af11-0bd73e0b3544"
      },
      "source": [
        "from scipy.linalg import solve\n",
        "print(solve(A,B))"
      ],
      "execution_count": 13,
      "outputs": [
        {
          "output_type": "stream",
          "name": "stdout",
          "text": [
            "[[ 3.]\n",
            " [-1.]]\n"
          ]
        }
      ]
    }
  ]
}