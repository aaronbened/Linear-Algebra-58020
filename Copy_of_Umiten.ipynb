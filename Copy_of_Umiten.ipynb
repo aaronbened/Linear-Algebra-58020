{
  "nbformat": 4,
  "nbformat_minor": 0,
  "metadata": {
    "colab": {
      "name": "Copy of Umiten.ipynb",
      "provenance": [],
      "collapsed_sections": [],
      "include_colab_link": true
    },
    "kernelspec": {
      "name": "python3",
      "display_name": "Python 3"
    },
    "language_info": {
      "name": "python"
    }
  },
  "cells": [
    {
      "cell_type": "markdown",
      "metadata": {
        "id": "view-in-github",
        "colab_type": "text"
      },
      "source": [
        "<a href=\"https://colab.research.google.com/github/aaronbened/Linear-Algebra-58020/blob/main/Copy_of_Umiten.ipynb\" target=\"_parent\"><img src=\"https://colab.research.google.com/assets/colab-badge.svg\" alt=\"Open In Colab\"/></a>"
      ]
    },
    {
      "cell_type": "markdown",
      "metadata": {
        "id": "UT7lFxTsGk7G"
      },
      "source": [
        "**Programming Demo 1 **"
      ]
    },
    {
      "cell_type": "code",
      "metadata": {
        "id": "vfAxc9-aGqRO"
      },
      "source": [
        "print(\"Hello World\") #this is comment :>>"
      ],
      "execution_count": null,
      "outputs": []
    },
    {
      "cell_type": "code",
      "metadata": {
        "id": "DfOLRVVnHTsU"
      },
      "source": [
        "#storing of data values**\n",
        "#multiple variable\n",
        "a, b, c, d= \"banana\",32,\"pineapple\",50\n",
        "print(a) \n",
        "print(b)\n",
        "print(c)\n",
        "print(d)\n",
        "#casting**\n",
        "print(type(a))\n",
        "print(type(b))\n",
        "print(type(c))\n",
        "print(type(d))"
      ],
      "execution_count": null,
      "outputs": []
    },
    {
      "cell_type": "code",
      "metadata": {
        "id": "GtpBoF5xHjo9"
      },
      "source": [
        "#single and double quote \n",
        "y='Ned'\n",
        "print(y)\n",
        "x=\"ned\"\n",
        "print(x)\n",
        "#case sensitive\n",
        "a = 4\n",
        "A = \"Sally\" \n",
        "print(a)\n",
        "print(A)"
      ],
      "execution_count": null,
      "outputs": []
    },
    {
      "cell_type": "code",
      "metadata": {
        "id": "sOfAjl6fJfYt"
      },
      "source": [
        "#one value in mulple variable\n",
        "x=z=y=5\n",
        "print(x)\n",
        "print(z)\n",
        "print(y)"
      ],
      "execution_count": null,
      "outputs": []
    },
    {
      "cell_type": "code",
      "metadata": {
        "id": "1M_YaE1kKS6b"
      },
      "source": [
        "#output variable\n",
        "x=\"enjoying\"\n",
        "print(\"Python Programming\" + \" \"+x) \n",
        "print(\" \")\n",
        "#other way\n",
        "y = \"can learn programming by \"\n",
        "z = \"trial and error\"\n",
        "sample = y+z\n",
        "print(sample)"
      ],
      "execution_count": null,
      "outputs": []
    },
    {
      "cell_type": "code",
      "metadata": {
        "id": "5LL_RZQLKx6D"
      },
      "source": [
        "#operation\n",
        "a,b,c,d,e= 2,4,6,8,9\n",
        "addition = a+b\n",
        "subtraction = a-d\n",
        "multiplication = b*c\n",
        "division = c/a\n",
        "modulus = e=e%a\n",
        "exponentiation = d**a\n",
        "\n",
        "print(addition)\n",
        "print(subtraction)\n",
        "print(multiplication)\n",
        "print(division)\n",
        "print(modulus)\n",
        "print(exponentiation)\n"
      ],
      "execution_count": null,
      "outputs": []
    },
    {
      "cell_type": "code",
      "metadata": {
        "id": "PT0kwrSkNzl-",
        "colab": {
          "base_uri": "https://localhost:8080/"
        },
        "outputId": "534d313d-614a-484e-8400-56c67856dfe6"
      },
      "source": [
        "#logical operators\n",
        "\n",
        "#and\n",
        "y =3\n",
        "y<6 and y>2\n"
      ],
      "execution_count": null,
      "outputs": [
        {
          "output_type": "execute_result",
          "data": {
            "text/plain": [
              "True"
            ]
          },
          "metadata": {},
          "execution_count": 98
        }
      ]
    },
    {
      "cell_type": "code",
      "metadata": {
        "id": "bfMh14YgOvTR"
      },
      "source": [
        "#or\n",
        "x=7\n",
        "x<3 or x>=3"
      ],
      "execution_count": null,
      "outputs": []
    },
    {
      "cell_type": "code",
      "metadata": {
        "id": "cms_bO63O0LW"
      },
      "source": [
        "x=4\n",
        "y=4 \n",
        "x is  y"
      ],
      "execution_count": null,
      "outputs": []
    },
    {
      "cell_type": "code",
      "metadata": {
        "id": "tSZVxq4vPCUV"
      },
      "source": [
        "#bitwise operators\n",
        "x,y,z = 4,7,3\n",
        "x>z & (z<=7 | y<x)"
      ],
      "execution_count": null,
      "outputs": []
    }
  ]
}