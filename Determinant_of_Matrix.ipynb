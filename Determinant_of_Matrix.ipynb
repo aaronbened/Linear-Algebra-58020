{
  "nbformat": 4,
  "nbformat_minor": 0,
  "metadata": {
    "colab": {
      "name": "Determinant of Matrix.ipynb",
      "provenance": [],
      "authorship_tag": "ABX9TyNYLFGNxoIYb3paNa1kFv5K",
      "include_colab_link": true
    },
    "kernelspec": {
      "name": "python3",
      "display_name": "Python 3"
    },
    "language_info": {
      "name": "python"
    }
  },
  "cells": [
    {
      "cell_type": "markdown",
      "metadata": {
        "id": "view-in-github",
        "colab_type": "text"
      },
      "source": [
        "<a href=\"https://colab.research.google.com/github/aaronbened/Linear-Algebra-58020/blob/main/Determinant_of_Matrix.ipynb\" target=\"_parent\"><img src=\"https://colab.research.google.com/assets/colab-badge.svg\" alt=\"Open In Colab\"/></a>"
      ]
    },
    {
      "cell_type": "markdown",
      "metadata": {
        "id": "sPK8go56S3aY"
      },
      "source": [
        "#Matrix Value (linalg)"
      ]
    },
    {
      "cell_type": "code",
      "metadata": {
        "colab": {
          "base_uri": "https://localhost:8080/"
        },
        "id": "O_miZyQGSWQe",
        "outputId": "b96d49b7-d54e-4862-ea26-1346b96cdad6"
      },
      "source": [
        "import numpy as np\n",
        "\n",
        "A = np.array([[1,2,-1],[4,6,-2],[-1,3,3]])\n",
        "print(A)"
      ],
      "execution_count": 1,
      "outputs": [
        {
          "output_type": "stream",
          "name": "stdout",
          "text": [
            "[[ 1  2 -1]\n",
            " [ 4  6 -2]\n",
            " [-1  3  3]]\n"
          ]
        }
      ]
    },
    {
      "cell_type": "markdown",
      "metadata": {
        "id": "FlV6C0KnS2st"
      },
      "source": [
        "linalg.det"
      ]
    },
    {
      "cell_type": "code",
      "metadata": {
        "colab": {
          "base_uri": "https://localhost:8080/"
        },
        "id": "GZzxXR_8S2HS",
        "outputId": "80f1e06b-680c-4b04-bca9-7f4d19305ca6"
      },
      "source": [
        "print(np.linalg.det(A))\n",
        "#round up\n",
        "print(\"the round up value\")\n",
        "print(round(np.linalg.det(A)))"
      ],
      "execution_count": 6,
      "outputs": [
        {
          "output_type": "stream",
          "name": "stdout",
          "text": [
            "-13.999999999999996\n",
            "the round up value\n",
            "-14\n"
          ]
        }
      ]
    }
  ]
}