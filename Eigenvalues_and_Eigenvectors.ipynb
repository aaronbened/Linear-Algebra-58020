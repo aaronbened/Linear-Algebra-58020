{
  "nbformat": 4,
  "nbformat_minor": 0,
  "metadata": {
    "colab": {
      "name": "Eigenvalues and Eigenvectors.ipynb",
      "provenance": [],
      "authorship_tag": "ABX9TyP3kn7aG/42uJC8ADq55He7",
      "include_colab_link": true
    },
    "kernelspec": {
      "name": "python3",
      "display_name": "Python 3"
    },
    "language_info": {
      "name": "python"
    }
  },
  "cells": [
    {
      "cell_type": "markdown",
      "metadata": {
        "id": "view-in-github",
        "colab_type": "text"
      },
      "source": [
        "<a href=\"https://colab.research.google.com/github/aaronbened/Linear-Algebra-58020/blob/main/Eigenvalues_and_Eigenvectors.ipynb\" target=\"_parent\"><img src=\"https://colab.research.google.com/assets/colab-badge.svg\" alt=\"Open In Colab\"/></a>"
      ]
    },
    {
      "cell_type": "code",
      "metadata": {
        "colab": {
          "base_uri": "https://localhost:8080/"
        },
        "id": "6qxRJLtqi935",
        "outputId": "3fc89767-daba-4285-91d4-ff69649a616b"
      },
      "source": [
        "import numpy as np\n",
        "A = np.array([[-12,3],[4,1]])\n",
        "B = np.array([[0],[0]])\n",
        "inv_A = np.linalg.inv(A)\n",
        "dot = np.dot(inv_A,B)\n",
        "print(A)\n",
        "print(B)\n",
        "print(inv_A)\n",
        "print(dot)\n"
      ],
      "execution_count": 16,
      "outputs": [
        {
          "output_type": "stream",
          "name": "stdout",
          "text": [
            "[[-12   3]\n",
            " [  4   1]]\n",
            "[[0]\n",
            " [0]]\n",
            "[[-0.04166667  0.125     ]\n",
            " [ 0.16666667  0.5       ]]\n",
            "[[0.]\n",
            " [0.]]\n",
            "[-12.86545993   1.86545993]\n",
            "[[-0.96081717 -0.2114717 ]\n",
            " [ 0.27718292 -0.97738412]]\n"
          ]
        }
      ]
    },
    {
      "cell_type": "code",
      "metadata": {
        "colab": {
          "base_uri": "https://localhost:8080/"
        },
        "id": "OiQEdZONq7pr",
        "outputId": "e883401d-0fe9-4042-d480-ee0b806b8ad4"
      },
      "source": [
        "#Example 1\n",
        "C = np.array([[-6,3],[4,5]])\n",
        "w,v = np.linalg.eig(C)\n",
        "print(w)\n",
        "print(v.round())\n"
      ],
      "execution_count": 17,
      "outputs": [
        {
          "output_type": "stream",
          "name": "stdout",
          "text": [
            "[-7.  6.]\n",
            "[[-1. -0.]\n",
            " [ 0. -1.]]\n"
          ]
        }
      ]
    },
    {
      "cell_type": "code",
      "metadata": {
        "colab": {
          "base_uri": "https://localhost:8080/"
        },
        "id": "96TbDHUltQgD",
        "outputId": "ca2e87e3-83f4-4750-e39b-3822aa096b1b"
      },
      "source": [
        "#example 2 \n",
        "A = np.array([[2,2,4],[1,3,5],[2,3,4]])\n",
        "w,v = np.linalg.eig(A)\n",
        "print(\"Eigenvalues are \\n \")\n",
        "print(w.round())\n",
        "print(\"Eigenvectors are  \\n \")\n",
        "print(v.round())\n",
        "print()\n",
        "print(np.dot(A,v.round()))"
      ],
      "execution_count": 34,
      "outputs": [
        {
          "output_type": "stream",
          "name": "stdout",
          "text": [
            "Eigenvalues are \n",
            " \n",
            "[ 9.  1. -1.]\n",
            "Eigenvectors are  \n",
            " \n",
            "[[-1. -1. -0.]\n",
            " [-1.  1. -1.]\n",
            " [-1. -0.  1.]]\n",
            "\n",
            "[[-8.  0.  2.]\n",
            " [-9.  2.  2.]\n",
            " [-9.  1.  1.]]\n"
          ]
        }
      ]
    },
    {
      "cell_type": "code",
      "metadata": {
        "colab": {
          "base_uri": "https://localhost:8080/"
        },
        "id": "tLdEChu6tj93",
        "outputId": "34911d8f-f661-4a51-ac1f-0135545b7df7"
      },
      "source": [
        "f = np.array([[0],[-1],[1]])\n",
        "g = np.dot(A,f)\n",
        "print(g)"
      ],
      "execution_count": 45,
      "outputs": [
        {
          "output_type": "stream",
          "name": "stdout",
          "text": [
            "[[2]\n",
            " [2]\n",
            " [1]]\n"
          ]
        }
      ]
    }
  ]
}