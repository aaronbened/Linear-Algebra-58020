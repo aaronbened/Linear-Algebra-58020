{
  "nbformat": 4,
  "nbformat_minor": 0,
  "metadata": {
    "colab": {
      "name": "Linear Transformation.ipynb",
      "provenance": [],
      "authorship_tag": "ABX9TyP44T2+ntvuNfZRuB3oEUzD",
      "include_colab_link": true
    },
    "kernelspec": {
      "name": "python3",
      "display_name": "Python 3"
    },
    "language_info": {
      "name": "python"
    }
  },
  "cells": [
    {
      "cell_type": "markdown",
      "metadata": {
        "id": "view-in-github",
        "colab_type": "text"
      },
      "source": [
        "<a href=\"https://colab.research.google.com/github/aaronbened/Linear-Algebra-58020/blob/main/Linear_Transformation.ipynb\" target=\"_parent\"><img src=\"https://colab.research.google.com/assets/colab-badge.svg\" alt=\"Open In Colab\"/></a>"
      ]
    },
    {
      "cell_type": "markdown",
      "metadata": {
        "id": "mK0nt0lPdGVN"
      },
      "source": [
        ""
      ]
    },
    {
      "cell_type": "code",
      "metadata": {
        "colab": {
          "base_uri": "https://localhost:8080/"
        },
        "id": "Gt11N1fybiW8",
        "outputId": "0e5ab0fa-39ab-4efc-eab5-10328d993933"
      },
      "source": [
        "import numpy as np \n",
        "A = np.array([[4,10,8],[10,26,26],[8,26,61]])\n",
        "print(A)\n",
        "print(\"----------------------------------------------------------------------------------------\")\n",
        "A_ = np.linalg.inv(A)\n",
        "print(A_)\n",
        "print(\"----------------------------------------------------------------------------------------\")\n",
        "B = np.array([[44],[128],[214]])\n",
        "print(B)\n",
        "\n",
        "#A multiply A to its inverse ----------- AA^-1X = B*A^-1\n",
        "print(\"----------------------------------------------------------------------------------------\")\n",
        "#AA'\n",
        "AA_ = np.dot(A,A_)\n",
        "print(AA_)\n",
        "print(\"----------------------------------------------------------------------------------------\")\n",
        "#A'B\n",
        "BA_ = np.dot(A_,B)\n",
        "print(BA_)\n"
      ],
      "execution_count": 14,
      "outputs": [
        {
          "output_type": "stream",
          "name": "stdout",
          "text": [
            "[[ 4 10  8]\n",
            " [10 26 26]\n",
            " [ 8 26 61]]\n",
            "----------------------------------------------------------------------------------------\n",
            "[[ 25.27777778 -11.16666667   1.44444444]\n",
            " [-11.16666667   5.          -0.66666667]\n",
            " [  1.44444444  -0.66666667   0.11111111]]\n",
            "----------------------------------------------------------------------------------------\n",
            "[[ 44]\n",
            " [128]\n",
            " [214]]\n",
            "----------------------------------------------------------------------------------------\n",
            "[[ 1.00000000e+00  0.00000000e+00 -2.22044605e-16]\n",
            " [ 3.73034936e-14  1.00000000e+00  5.55111512e-17]\n",
            " [ 4.44089210e-15  3.77475828e-15  1.00000000e+00]]\n",
            "----------------------------------------------------------------------------------------\n",
            "[[-8.]\n",
            " [ 6.]\n",
            " [ 2.]]\n"
          ]
        }
      ]
    }
  ]
}