{
  "nbformat": 4,
  "nbformat_minor": 0,
  "metadata": {
    "colab": {
      "name": "Midterm Exam.ipynb",
      "provenance": [],
      "collapsed_sections": [],
      "authorship_tag": "ABX9TyN7SRcgbALs+8bWwjk8qPGo",
      "include_colab_link": true
    },
    "kernelspec": {
      "name": "python3",
      "display_name": "Python 3"
    },
    "language_info": {
      "name": "python"
    }
  },
  "cells": [
    {
      "cell_type": "markdown",
      "metadata": {
        "id": "view-in-github",
        "colab_type": "text"
      },
      "source": [
        "<a href=\"https://colab.research.google.com/github/aaronbened/Linear-Algebra-58020/blob/main/Midterm_Exam.ipynb\" target=\"_parent\"><img src=\"https://colab.research.google.com/assets/colab-badge.svg\" alt=\"Open In Colab\"/></a>"
      ]
    },
    {
      "cell_type": "markdown",
      "metadata": {
        "id": "p4dLFTqN4Cyy"
      },
      "source": [
        "#Question 1. Create a Python code that displays a square matrix whose length is 5 (10 points)"
      ]
    },
    {
      "cell_type": "code",
      "metadata": {
        "id": "eyhkeDJR3vil",
        "colab": {
          "base_uri": "https://localhost:8080/"
        },
        "outputId": "bec40801-4789-46cb-af81-7dc2ae5e4dda"
      },
      "source": [
        "import numpy as np #Import library \n",
        "#square matrix is same length and width so 5x5\n",
        "SquareMatrix = np.array([[1,2,3,4,5],[2,0,0,0,0],[3,0,0,0,0],[4,0,0,0,0],[5,0,0,0,0]]) #set a 5x5 matrix\n",
        "print(\"this is the square matrix\")\n",
        "print(SquareMatrix) #display the matrix"
      ],
      "execution_count": null,
      "outputs": [
        {
          "output_type": "stream",
          "name": "stdout",
          "text": [
            "this is the square matrix\n",
            "[[1 2 3 4 5]\n",
            " [2 0 0 0 0]\n",
            " [3 0 0 0 0]\n",
            " [4 0 0 0 0]\n",
            " [5 0 0 0 0]]\n"
          ]
        }
      ]
    },
    {
      "cell_type": "markdown",
      "metadata": {
        "id": "2jMYGMtH4OK7"
      },
      "source": [
        "#Question 2. Create a Python code that displays a square matrix whose elements below the principal diagonal are zero (10 points)"
      ]
    },
    {
      "cell_type": "code",
      "metadata": {
        "id": "OcyYe9w34WgA",
        "colab": {
          "base_uri": "https://localhost:8080/"
        },
        "outputId": "f02a09b3-0bcf-4e38-f116-3d02c886c1e6"
      },
      "source": [
        "# import numpy as np\n",
        "Matrix = np.array([[1,2,3,4],[4,5,6,7],[7,8,9,10],[10,11,12,13]]) #make a matrix that below the diagonal is zero\n",
        "diagonal = np.triu(Matrix)\n",
        "print(diagonal)# display matrix"
      ],
      "execution_count": 46,
      "outputs": [
        {
          "output_type": "stream",
          "name": "stdout",
          "text": [
            "[[ 1  2  3  4]\n",
            " [ 0  5  6  7]\n",
            " [ 0  0  9 10]\n",
            " [ 0  0  0 13]]\n"
          ]
        }
      ]
    },
    {
      "cell_type": "markdown",
      "metadata": {
        "id": "69av6owd4W3q"
      },
      "source": [
        "#Question 3. Create a Python code that displays a square matrix which is symmetrical (10 points)"
      ]
    },
    {
      "cell_type": "code",
      "metadata": {
        "id": "srSlrw604afb",
        "colab": {
          "base_uri": "https://localhost:8080/"
        },
        "outputId": "f705be5b-6fef-4d82-93c8-0a9bf6829d2b"
      },
      "source": [
        "import numpy as np\n",
        "#symmetric matrix has different values in diagonal but the sides looks like mirror\n",
        "symmetric = np.array([[1,2,3],[2,5,8],[3,8,9]])\n",
        "print(\"symmetric form of matrix A\")\n",
        "print(symmetric)#display the Matrix Values\n",
        "symmetric1 = np.transpose(symmetric)\n",
        "print(\"transpose of the matrix\")\n",
        "print(symmetric1)\n"
      ],
      "execution_count": 49,
      "outputs": [
        {
          "output_type": "stream",
          "name": "stdout",
          "text": [
            "symmetric form of matrix A\n",
            "[[1 2 3]\n",
            " [2 5 8]\n",
            " [3 8 9]]\n",
            "transpose of the matrix\n",
            "[[1 2 3]\n",
            " [2 5 8]\n",
            " [3 8 9]]\n"
          ]
        }
      ]
    },
    {
      "cell_type": "markdown",
      "metadata": {
        "id": "3wP7mGPC4cu-"
      },
      "source": [
        "#Question 4. What is the inverse of matrix C? Show your solution by python coding. (20 points)"
      ]
    },
    {
      "cell_type": "code",
      "metadata": {
        "id": "I0plT53L4drq",
        "colab": {
          "base_uri": "https://localhost:8080/"
        },
        "outputId": "48ca6025-b2cd-4ffc-ba8a-d9ea5fcfc8b3"
      },
      "source": [
        "C = np.array([[1,2,3],[2,3,3],[3,4,-2]])\n",
        "print(C)\n",
        "print(\"this is the inverse of Matrix C\")\n",
        "C_ = np.linalg.inv(C)#use linalg.inv to inverse the matrix\n",
        "print(C_)"
      ],
      "execution_count": 50,
      "outputs": [
        {
          "output_type": "stream",
          "name": "stdout",
          "text": [
            "[[ 1  2  3]\n",
            " [ 2  3  3]\n",
            " [ 3  4 -2]]\n",
            "this is the inverse of Matrix C\n",
            "[[-3.6  3.2 -0.6]\n",
            " [ 2.6 -2.2  0.6]\n",
            " [-0.2  0.4 -0.2]]\n"
          ]
        }
      ]
    },
    {
      "cell_type": "markdown",
      "metadata": {
        "id": "soCX6vOg4g-b"
      },
      "source": [
        "#Question 5. What is the determinant of the given matrix in Question 4? Show your solution by python coding. (20 points)"
      ]
    },
    {
      "cell_type": "code",
      "metadata": {
        "id": "TtHNs2bp4l6-",
        "colab": {
          "base_uri": "https://localhost:8080/"
        },
        "outputId": "ff1a457c-c9dc-4429-e6b2-6882a0f99618"
      },
      "source": [
        "determinant = np.linalg.det(C)\n",
        "print(C)\n",
        "print(\"the determinant of Matrix C\")\n",
        "print(round(determinant))\n"
      ],
      "execution_count": 53,
      "outputs": [
        {
          "output_type": "stream",
          "name": "stdout",
          "text": [
            "[[ 1  2  3]\n",
            " [ 2  3  3]\n",
            " [ 3  4 -2]]\n",
            "the determinant of Matrix C\n",
            "5\n"
          ]
        }
      ]
    },
    {
      "cell_type": "markdown",
      "metadata": {
        "id": "1yXxKOHL4lXL"
      },
      "source": [
        "#Question 6. Find the roots of the linear equations by showing its python codes (30 points)\n",
        "\n",
        "5X1 + 4X2 + X3 = 3.4\n",
        "\n",
        "10X1 + 9X2 + 4X3 = 8.8\n",
        "\n",
        "10X1 + 13X2 + 15X3 = 19.2"
      ]
    },
    {
      "cell_type": "code",
      "metadata": {
        "id": "oO_2sVke4pyd",
        "colab": {
          "base_uri": "https://localhost:8080/"
        },
        "outputId": "eac091cf-ff7a-4c0a-fbd5-089c9a4cd151"
      },
      "source": [
        "import numpy as np \n",
        "A = np.array([[5,4,1],[10,9,4],[10,13,15]])\n",
        "print(A)\n",
        "print(\"----------------------------------------------------------------------------------------\")\n",
        "A_ = np.linalg.inv(A) #inverse the Matrix A\n",
        "print(A_)\n",
        "print(\"----------------------------------------------------------------------------------------\")\n",
        "B = np.array([[3.4],[8.8],[19.2]])\n",
        "print(B)\n",
        "\n",
        "#A multiply A to its inverse ----------- AA^-1X = B*A^-1\n",
        "print(\"----------------------------------------------------------------------------------------\")\n",
        "#AXA'\n",
        "AA_ = np.dot(A,A_)\n",
        "print(AA_)\n",
        "print(\"----------------------------------------------------------------------------------------\")\n",
        "#A'X B\n",
        "BA_ = np.dot(A_,B)\n",
        "print(\"the Unknown Variables Are:\")\n",
        "print(BA_)\n"
      ],
      "execution_count": 33,
      "outputs": [
        {
          "output_type": "stream",
          "name": "stdout",
          "text": [
            "[[ 5  4  1]\n",
            " [10  9  4]\n",
            " [10 13 15]]\n",
            "----------------------------------------------------------------------------------------\n",
            "[[ 5.53333333 -3.13333333  0.46666667]\n",
            " [-7.33333333  4.33333333 -0.66666667]\n",
            " [ 2.66666667 -1.66666667  0.33333333]]\n",
            "----------------------------------------------------------------------------------------\n",
            "[[ 3.4]\n",
            " [ 8.8]\n",
            " [19.2]]\n",
            "----------------------------------------------------------------------------------------\n",
            "[[ 1.00000000e+00 -4.44089210e-16 -1.66533454e-16]\n",
            " [-1.77635684e-15  1.00000000e+00 -2.22044605e-16]\n",
            " [-2.22044605e-15 -1.33226763e-15  1.00000000e+00]]\n",
            "----------------------------------------------------------------------------------------\n",
            "the Unknown Variables Are:\n",
            "[[0.2]\n",
            " [0.4]\n",
            " [0.8]]\n"
          ]
        }
      ]
    }
  ]
}