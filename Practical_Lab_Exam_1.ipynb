{
  "nbformat": 4,
  "nbformat_minor": 0,
  "metadata": {
    "colab": {
      "name": "Practical Lab Exam 1.ipynb",
      "provenance": [],
      "authorship_tag": "ABX9TyPNAkSEC9YRvU/pW+FqrYZV",
      "include_colab_link": true
    },
    "kernelspec": {
      "name": "python3",
      "display_name": "Python 3"
    },
    "language_info": {
      "name": "python"
    }
  },
  "cells": [
    {
      "cell_type": "markdown",
      "metadata": {
        "id": "view-in-github",
        "colab_type": "text"
      },
      "source": [
        "<a href=\"https://colab.research.google.com/github/aaronbened/Linear-Algebra-58020/blob/main/Practical_Lab_Exam_1.ipynb\" target=\"_parent\"><img src=\"https://colab.research.google.com/assets/colab-badge.svg\" alt=\"Open In Colab\"/></a>"
      ]
    },
    {
      "cell_type": "markdown",
      "metadata": {
        "id": "FbCELoVfLQPi"
      },
      "source": [
        "\n",
        "#Given\n",
        "\n"
      ]
    },
    {
      "cell_type": "code",
      "metadata": {
        "colab": {
          "base_uri": "https://localhost:8080/"
        },
        "id": "zQFBKH7h-Gnw",
        "outputId": "0549517a-f121-4de0-acdc-7cf5830f9c13"
      },
      "source": [
        "import numpy as np\n",
        "w= np.array([[1,-3],[2,-2],[3,1]])\n",
        "print(\"Vector w\")\n",
        "print(w)\n",
        "\n",
        "x= np.array([[3,2,1],[-1,2,3],[2,-1,1]])\n",
        "print(\"Vector x\")\n",
        "print(x)\n",
        "\n",
        "y= np.array([[1,2,0],[0,-1,2]])\n",
        "print(\"Vector y\")\n",
        "print(y)\n",
        "\n",
        "z= np.array([[0,1,],[2,3]])\n",
        "print(\"Vector z\")\n",
        "print(z)\n"
      ],
      "execution_count": 59,
      "outputs": [
        {
          "output_type": "stream",
          "name": "stdout",
          "text": [
            "Vector w\n",
            "[[ 1 -3]\n",
            " [ 2 -2]\n",
            " [ 3  1]]\n",
            "Vector x\n",
            "[[ 3  2  1]\n",
            " [-1  2  3]\n",
            " [ 2 -1  1]]\n",
            "Vector y\n",
            "[[ 1  2  0]\n",
            " [ 0 -1  2]]\n",
            "Vector z\n",
            "[[0 1]\n",
            " [2 3]]\n"
          ]
        }
      ]
    },
    {
      "cell_type": "markdown",
      "metadata": {
        "id": "lyXhh4UbAkzA"
      },
      "source": [
        "#Problem 1 a-c"
      ]
    },
    {
      "cell_type": "code",
      "metadata": {
        "colab": {
          "base_uri": "https://localhost:8080/"
        },
        "id": "CjYJ54RwApp5",
        "outputId": "48da294d-19e8-42b3-8d90-34dd8d182834"
      },
      "source": [
        "print(\"problem a answer\")\n",
        "print(\"wy\")\n",
        "a = np.dot(w,y)\n",
        "print(a)\n",
        "\n",
        "print(\"\\n problem b answer\")\n",
        "print(\"z+z\")\n",
        "b=np.add(z,z)\n",
        "print(b)\n",
        "\n",
        "print(\"\\n problem c answer\")\n",
        "print(\"3x\")\n",
        "c=np.multiply(3,x)\n",
        "print(c)"
      ],
      "execution_count": 58,
      "outputs": [
        {
          "output_type": "stream",
          "name": "stdout",
          "text": [
            "problem a answer\n",
            "wy\n",
            "[[ 1  5 -6]\n",
            " [ 2  6 -4]\n",
            " [ 3  5  2]]\n",
            "\n",
            " problem b answer\n",
            "z+z\n",
            "[[0 2]\n",
            " [4 6]]\n",
            "\n",
            " problem c answer\n",
            "3x\n",
            "[[ 9  6  3]\n",
            " [-3  6  9]\n",
            " [ 6 -3  3]]\n"
          ]
        }
      ]
    },
    {
      "cell_type": "markdown",
      "metadata": {
        "id": "5A1FsAl1D2iU"
      },
      "source": [
        "#Problem 2"
      ]
    },
    {
      "cell_type": "code",
      "metadata": {
        "colab": {
          "base_uri": "https://localhost:8080/"
        },
        "id": "KesBpSG2D6vs",
        "outputId": "84557c3f-3e6c-438a-92be-56acd4caf440"
      },
      "source": [
        "print(\"A\")\n",
        "yw = np.dot(y,w)\n",
        "product= np.power(yw,2)\n",
        "print(product)\n",
        "print(\"false \\n\")\n",
        "\n",
        "print(\"B\")\n",
        "p2b= np.subtract(a,x)\n",
        "print(p2b)\n",
        "print(\"true \\n\")\n",
        "\n",
        "print(\"C\")\n",
        "d= np.dot(y,w)\n",
        "p2c= np.subtract(d,z^2)\n",
        "print(p2c)\n",
        "print(\"false\")"
      ],
      "execution_count": 56,
      "outputs": [
        {
          "output_type": "stream",
          "name": "stdout",
          "text": [
            "A\n",
            "[[25 49]\n",
            " [16 16]]\n",
            "false \n",
            "\n",
            "B\n",
            "[[-2  3 -7]\n",
            " [ 3  4 -7]\n",
            " [ 1  6  1]]\n",
            "true \n",
            "\n",
            "C\n",
            "[[  3 -10]\n",
            " [  4   3]]\n",
            "false\n"
          ]
        }
      ]
    }
  ]
}