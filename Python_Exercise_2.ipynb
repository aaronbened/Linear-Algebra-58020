{
  "nbformat": 4,
  "nbformat_minor": 0,
  "metadata": {
    "colab": {
      "name": "Python Exercise 2.ipynb",
      "provenance": [],
      "collapsed_sections": [],
      "authorship_tag": "ABX9TyMp0VRqEuxbVVL0iZlFFt6j",
      "include_colab_link": true
    },
    "kernelspec": {
      "name": "python3",
      "display_name": "Python 3"
    },
    "language_info": {
      "name": "python"
    }
  },
  "cells": [
    {
      "cell_type": "markdown",
      "metadata": {
        "id": "view-in-github",
        "colab_type": "text"
      },
      "source": [
        "<a href=\"https://colab.research.google.com/github/aaronbened/Linear-Algebra-58020/blob/main/Python_Exercise_2.ipynb\" target=\"_parent\"><img src=\"https://colab.research.google.com/assets/colab-badge.svg\" alt=\"Open In Colab\"/></a>"
      ]
    },
    {
      "cell_type": "markdown",
      "metadata": {
        "id": "Ga8TVoB-5T7v"
      },
      "source": [
        "#Vector Space Operations"
      ]
    },
    {
      "cell_type": "code",
      "metadata": {
        "id": "P_3XPx0Z4uao"
      },
      "source": [
        "import numpy as np\n",
        "A= np.array([4,3])\n",
        "B= np.array([2,-5])\n",
        "print(\"Vector A is \",A)\n",
        "print(\"Vector A is \",B)"
      ],
      "execution_count": null,
      "outputs": []
    },
    {
      "cell_type": "code",
      "metadata": {
        "id": "l5EPooOL5eAO"
      },
      "source": [
        "\n",
        "ball1= np.array([1,2,3])\n",
        "ball2= np.array([0,1,-1])\n",
        "pool = np.array([ball1,ball2])\n",
        "print(pool.shape)\n",
        "print (pool.size)\n",
        "pool.ndim"
      ],
      "execution_count": null,
      "outputs": []
    },
    {
      "cell_type": "markdown",
      "metadata": {
        "id": "Y4U1pfiAFOxS"
      },
      "source": [
        "#Vector Addition"
      ]
    },
    {
      "cell_type": "code",
      "metadata": {
        "id": "IlKJofZMFBCa"
      },
      "source": [
        "import numpy as np\n",
        "A= np.array([4,3])\n",
        "B= np.array([2,-5])\n",
        "R = A +B\n",
        "R"
      ],
      "execution_count": null,
      "outputs": []
    },
    {
      "cell_type": "code",
      "metadata": {
        "colab": {
          "base_uri": "https://localhost:8080/"
        },
        "id": "YMtDe5e5FRil",
        "outputId": "a2a9bf36-25b0-4a22-d723-aca0ce14989f"
      },
      "source": [
        "P= np.add(A,B)\n",
        "P"
      ],
      "execution_count": 65,
      "outputs": [
        {
          "output_type": "execute_result",
          "data": {
            "text/plain": [
              "array([ 6, -2])"
            ]
          },
          "metadata": {},
          "execution_count": 65
        }
      ]
    },
    {
      "cell_type": "markdown",
      "metadata": {
        "id": "qIF6gjvMAvRt"
      },
      "source": [
        "#Vector Subtraction"
      ]
    },
    {
      "cell_type": "code",
      "metadata": {
        "colab": {
          "base_uri": "https://localhost:8080/"
        },
        "id": "1QP1er3p_Tuh",
        "outputId": "90ea612c-84cc-4c6e-ea86-f94061740535"
      },
      "source": [
        "R = np.subtract(A,B)\n",
        "R"
      ],
      "execution_count": 61,
      "outputs": [
        {
          "output_type": "execute_result",
          "data": {
            "text/plain": [
              "array([2, 8])"
            ]
          },
          "metadata": {},
          "execution_count": 61
        }
      ]
    },
    {
      "cell_type": "markdown",
      "metadata": {
        "id": "msjcklALBDHZ"
      },
      "source": [
        "##Vector Scaling\n",
        "\n"
      ]
    },
    {
      "cell_type": "code",
      "metadata": {
        "colab": {
          "base_uri": "https://localhost:8080/"
        },
        "id": "qjmG-N_gBHRJ",
        "outputId": "f7a12be5-2da9-4ea5-d749-2ebcaebf82c8"
      },
      "source": [
        "C = np.array([1,5,8,9])\n",
        "S= 5*C\n",
        "S"
      ],
      "execution_count": 62,
      "outputs": [
        {
          "output_type": "execute_result",
          "data": {
            "text/plain": [
              "array([ 5, 25, 40, 45])"
            ]
          },
          "metadata": {},
          "execution_count": 62
        }
      ]
    },
    {
      "cell_type": "code",
      "metadata": {
        "colab": {
          "base_uri": "https://localhost:8080/"
        },
        "id": "tniQDwzPBU1Y",
        "outputId": "1db80fec-b510-4348-c6ce-f089e8693170"
      },
      "source": [
        "C = np.array([1,5,8,9])\n",
        "S= np.multiply(5,C)\n",
        "S"
      ],
      "execution_count": 63,
      "outputs": [
        {
          "output_type": "execute_result",
          "data": {
            "text/plain": [
              "array([ 5, 25, 40, 45])"
            ]
          },
          "metadata": {},
          "execution_count": 63
        }
      ]
    },
    {
      "cell_type": "markdown",
      "metadata": {
        "id": "VSFkESK6Bqc8"
      },
      "source": [
        "# Vector Cross Product"
      ]
    },
    {
      "cell_type": "code",
      "metadata": {
        "colab": {
          "base_uri": "https://localhost:8080/"
        },
        "id": "hO0wqXAxBs2n",
        "outputId": "8fdccfeb-6bb3-4ea9-cf1f-f5fbace9746b"
      },
      "source": [
        "import numpy as np\n",
        "D = np.array([2,3])\n",
        "E = np.array([1,7])\n",
        "output = np.cross(D,E)\n",
        "output"
      ],
      "execution_count": 51,
      "outputs": [
        {
          "output_type": "execute_result",
          "data": {
            "text/plain": [
              "array(11)"
            ]
          },
          "metadata": {},
          "execution_count": 51
        }
      ]
    },
    {
      "cell_type": "code",
      "metadata": {
        "colab": {
          "base_uri": "https://localhost:8080/"
        },
        "id": "AF4KPr4bCwRu",
        "outputId": "24ef6c4b-da12-427d-d6bc-55d2ae5a4472"
      },
      "source": [
        "F = np.array([2,3,4])\n",
        "G = np.array([1,7,0])\n",
        "output = np.cross(F,G)\n",
        "output"
      ],
      "execution_count": 56,
      "outputs": [
        {
          "output_type": "execute_result",
          "data": {
            "text/plain": [
              "array([-28,   4,  11])"
            ]
          },
          "metadata": {},
          "execution_count": 56
        }
      ]
    },
    {
      "cell_type": "markdown",
      "metadata": {
        "id": "t19ZRBrOHXzh"
      },
      "source": [
        "#Vector Dot Product"
      ]
    },
    {
      "cell_type": "code",
      "metadata": {
        "colab": {
          "base_uri": "https://localhost:8080/"
        },
        "id": "3LeH8tIUGPaW",
        "outputId": "c078567c-ac69-427e-bc54-99ee12db5202"
      },
      "source": [
        "H = np.dot(F,G)\n",
        "H"
      ],
      "execution_count": 66,
      "outputs": [
        {
          "output_type": "execute_result",
          "data": {
            "text/plain": [
              "23"
            ]
          },
          "metadata": {},
          "execution_count": 66
        }
      ]
    }
  ]
}