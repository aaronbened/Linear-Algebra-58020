{
  "nbformat": 4,
  "nbformat_minor": 0,
  "metadata": {
    "colab": {
      "name": "Python Exercise 3.ipynb",
      "provenance": [],
      "collapsed_sections": [],
      "authorship_tag": "ABX9TyOp6FdKzAyNxzTx7Tko92So",
      "include_colab_link": true
    },
    "kernelspec": {
      "name": "python3",
      "display_name": "Python 3"
    },
    "language_info": {
      "name": "python"
    }
  },
  "cells": [
    {
      "cell_type": "markdown",
      "metadata": {
        "id": "view-in-github",
        "colab_type": "text"
      },
      "source": [
        "<a href=\"https://colab.research.google.com/github/aaronbened/Linear-Algebra-58020/blob/main/Python_Exercise_3.ipynb\" target=\"_parent\"><img src=\"https://colab.research.google.com/assets/colab-badge.svg\" alt=\"Open In Colab\"/></a>"
      ]
    },
    {
      "cell_type": "markdown",
      "metadata": {
        "id": "mK0nt0lPdGVN"
      },
      "source": [
        "#**Linear Transformation **"
      ]
    },
    {
      "cell_type": "code",
      "metadata": {
        "colab": {
          "base_uri": "https://localhost:8080/"
        },
        "id": "Gt11N1fybiW8",
        "outputId": "31500827-ed5c-4abd-d733-bf086be5c594"
      },
      "source": [
        "import numpy as np \n",
        "A = np.array([[1,1,1],[1,2,2],[1,2,3]])\n",
        "print(A)\n",
        "print(\"----------------------------------------------------------------------------------------\")\n",
        "A_ = np.linalg.inv(A)\n",
        "print(A_)\n",
        "print(\"----------------------------------------------------------------------------------------\")\n",
        "B = np.array([[5],[6],[8]])\n",
        "print(B)\n",
        "\n",
        "#A multiply A to its inverse ----------- AA^-1X = B*A^-1\n",
        "print(\"----------------------------------------------------------------------------------------\")\n",
        "#AA'\n",
        "AA_ = np.dot(A,A_)\n",
        "print(AA_)\n",
        "print(\"----------------------------------------------------------------------------------------\")\n",
        "#A'B\n",
        "BA_ = np.dot(A_,B)\n",
        "print(\"the Unknown Variables Are:\")\n",
        "print(BA_)\n"
      ],
      "execution_count": 16,
      "outputs": [
        {
          "output_type": "stream",
          "name": "stdout",
          "text": [
            "[[1 1 1]\n",
            " [1 2 2]\n",
            " [1 2 3]]\n",
            "----------------------------------------------------------------------------------------\n",
            "[[ 2. -1.  0.]\n",
            " [-1.  2. -1.]\n",
            " [ 0. -1.  1.]]\n",
            "----------------------------------------------------------------------------------------\n",
            "[[5]\n",
            " [6]\n",
            " [8]]\n",
            "----------------------------------------------------------------------------------------\n",
            "[[1. 0. 0.]\n",
            " [0. 1. 0.]\n",
            " [0. 0. 1.]]\n",
            "----------------------------------------------------------------------------------------\n",
            "the Unknown Variables Are:\n",
            "[[ 4.]\n",
            " [-1.]\n",
            " [ 2.]]\n"
          ]
        }
      ]
    }
  ]
}